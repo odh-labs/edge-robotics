{
 "cells": [
  {
   "cell_type": "markdown",
   "id": "e260f146-9844-4854-a29c-7ef08829e4e7",
   "metadata": {},
   "source": [
    "# Export YoloV5 model to ONNX format"
   ]
  },
  {
   "cell_type": "markdown",
   "id": "7b3c563e-535f-431f-b49c-b2008afacf6f",
   "metadata": {},
   "source": [
    "## Install requirements"
   ]
  },
  {
   "cell_type": "code",
   "execution_count": null,
   "id": "84a11749-e831-4c36-8dd5-ebad7954b586",
   "metadata": {},
   "outputs": [],
   "source": [
    "# IF you are getting \"ImportError: libGL.so.1: cannot open shared object file: No such file or directory\"\n",
    "#!pip uninstall opencv-python-headless cv2 --yes "
   ]
  },
  {
   "cell_type": "code",
   "execution_count": 11,
   "id": "f20ffb88-1685-4448-9af4-a981d83e94a8",
   "metadata": {},
   "outputs": [],
   "source": [
    "#!pip install --upgrade pip\n",
    "!pip install -qr requirements.txt\n"
   ]
  },
  {
   "cell_type": "code",
   "execution_count": 5,
   "id": "37e00872",
   "metadata": {},
   "outputs": [
    {
     "name": "stdout",
     "output_type": "stream",
     "text": [
      "Requirement already satisfied: pyyaml in /Users/arslankhan/Codes/.venv/lib/python3.11/site-packages (6.0.1)\n",
      "Collecting tqdm\n",
      "  Obtaining dependency information for tqdm from https://files.pythonhosted.org/packages/00/e5/f12a80907d0884e6dff9c16d0c0114d81b8cd07dc3ae54c5e962cc83037e/tqdm-4.66.1-py3-none-any.whl.metadata\n",
      "  Downloading tqdm-4.66.1-py3-none-any.whl.metadata (57 kB)\n",
      "\u001b[2K     \u001b[90m━━━━━━━━━━━━━━━━━━━━━━━━━━━━━━━━━━━━━━━\u001b[0m \u001b[32m57.6/57.6 kB\u001b[0m \u001b[31m151.7 kB/s\u001b[0m eta \u001b[36m0:00:00\u001b[0ma \u001b[36m0:00:01\u001b[0m\n",
      "\u001b[?25hDownloading tqdm-4.66.1-py3-none-any.whl (78 kB)\n",
      "\u001b[2K   \u001b[90m━━━━━━━━━━━━━━━━━━━━━━━━━━━━━━━━━━━━━━━━\u001b[0m \u001b[32m78.3/78.3 kB\u001b[0m \u001b[31m685.4 kB/s\u001b[0m eta \u001b[36m0:00:00\u001b[0ma \u001b[36m0:00:01\u001b[0m\n",
      "\u001b[?25hInstalling collected packages: tqdm\n",
      "Successfully installed tqdm-4.66.1\n"
     ]
    }
   ],
   "source": [
    "%pip install pyyaml tqdm"
   ]
  },
  {
   "cell_type": "markdown",
   "id": "f8df2bcd-d5e2-4fa3-8b68-bf8270d021d3",
   "metadata": {},
   "source": [
    "## Download model\n",
    "You can download the model of your choice (different sizes and characteristics) from here: https://github.com/ultralytics/yolov5#pretrained-checkpoints"
   ]
  },
  {
   "cell_type": "markdown",
   "id": "24297e76-2a68-4885-a070-1880eac3f902",
   "metadata": {},
   "source": [
    "## Export the model to ONNX\n",
    "- Eventually modify the image size if you selected a model with the \"6\" suffix, as image size is 1280 (and not 640)\n",
    "- Stay at opset 16 for the moment for OpenVino model server compatibility"
   ]
  },
  {
   "cell_type": "code",
   "execution_count": 6,
   "id": "3a3c4258-44f8-41ef-8d9f-499daea6a9d1",
   "metadata": {},
   "outputs": [
    {
     "name": "stdout",
     "output_type": "stream",
     "text": [
      "\u001b[34m\u001b[1mexport: \u001b[0mdata=data/coco128.yaml, weights=['../yolov5s.pt'], imgsz=[640], batch_size=1, device=cpu, half=False, inplace=False, keras=False, optimize=False, int8=False, dynamic=False, simplify=False, opset=16, verbose=False, workspace=4, nms=False, agnostic_nms=False, topk_per_class=100, topk_all=100, iou_thres=0.45, conf_thres=0.25, include=['onnx', 'openvino']\n",
      "YOLOv5 🚀 2023-9-14 Python-3.11.4 torch-2.0.1 CPU\n",
      "\n",
      "Fusing layers... \n",
      "Model summary: 206 layers, 3089188 parameters, 0 gradients\n",
      "\n",
      "\u001b[34m\u001b[1mPyTorch:\u001b[0m starting from ../yolov5s.pt with output shape (1, 25500, 7) (6.2 MB)\n",
      "\n",
      "\u001b[34m\u001b[1mONNX:\u001b[0m starting export with onnx 1.14.1...\n",
      "================ Diagnostic Run torch.onnx.export version 2.0.1 ================\n",
      "verbose: False, log level: Level.ERROR\n",
      "======================= 0 NONE 0 NOTE 0 WARNING 0 ERROR ========================\n",
      "\n",
      "\u001b[34m\u001b[1mONNX:\u001b[0m export success ✅ 2.6s, saved as ../yolov5s.onnx (12.2 MB)\n",
      "\u001b[31m\u001b[1mrequirements:\u001b[0m YOLOv5 requirement \"openvino-dev\" not found, attempting AutoUpdate...\n",
      "^C\n",
      "\n",
      "\u001b[34m\u001b[1mOpenVINO:\u001b[0m export failure ❌ 499.9s: No module named 'openvino'\n",
      "\n",
      "Export complete (503.4s)\n",
      "Results saved to \u001b[1m/Users/arslankhan/Codes/edge-robotics/model-lean\u001b[0m\n",
      "Detect:          python detect.py --weights ../yolov5s.onnx \n",
      "Validate:        python val.py --weights ../yolov5s.onnx \n",
      "PyTorch Hub:     model = torch.hub.load('ultralytics/yolov5', 'custom', '../yolov5s.onnx')  \n",
      "Visualize:       https://netron.app\n"
     ]
    }
   ],
   "source": [
    "!python export.py --weights ../yolov5s.pt --include onnx openvino --imgsz 640 --opset 16\n"
   ]
  },
  {
   "cell_type": "markdown",
   "id": "04cf0fbd-59dc-49bc-9e3f-bb33fc29e39f",
   "metadata": {},
   "source": [
    "## Export the model ONNX to Openvino\n",
    "- Eventually modify the image size if you selected a model with the \"6\" suffix, as image size is 1280 (and not 640)\n",
    "- Stay at opset 16 for the moment for OpenVino model server compatibility"
   ]
  },
  {
   "cell_type": "code",
   "execution_count": 11,
   "id": "3bee45ad-62c5-4ba5-bb83-f4a96b53ceb1",
   "metadata": {},
   "outputs": [
    {
     "name": "stdout",
     "output_type": "stream",
     "text": [
      "^C\n",
      "\u001b[31mERROR: Operation cancelled by user\u001b[0m\u001b[31m\n",
      "\u001b[0m"
     ]
    },
    {
     "ename": "ModuleNotFoundError",
     "evalue": "No module named 'openvino'",
     "output_type": "error",
     "traceback": [
      "\u001b[0;31m---------------------------------------------------------------------------\u001b[0m",
      "\u001b[0;31mModuleNotFoundError\u001b[0m                       Traceback (most recent call last)",
      "Cell \u001b[0;32mIn[11], line 4\u001b[0m\n\u001b[1;32m      1\u001b[0m \u001b[39m# Required imports. Please execute this cell first.\u001b[39;00m\n\u001b[1;32m      2\u001b[0m get_ipython()\u001b[39m.\u001b[39msystem(\u001b[39m'\u001b[39m\u001b[39m pip install -q --find-links https://download.pytorch.org/whl/torch_stable.html  \u001b[39m\u001b[39m\"\u001b[39m\u001b[39mopenvino-dev>=2023.0.1\u001b[39m\u001b[39m\"\u001b[39m\u001b[39m  \u001b[39m\u001b[39m\"\u001b[39m\u001b[39mrequests\u001b[39m\u001b[39m\"\u001b[39m\u001b[39m  \u001b[39m\u001b[39m\"\u001b[39m\u001b[39mtqdm\u001b[39m\u001b[39m\"\u001b[39m\u001b[39m  \u001b[39m\u001b[39m\"\u001b[39m\u001b[39mopenvino\u001b[39m\u001b[39m\"\u001b[39m\u001b[39m  \u001b[39m\u001b[39m\"\u001b[39m\u001b[39mtransformers[onnx]>=4.21.1\u001b[39m\u001b[39m\"\u001b[39m\u001b[39m  #\u001b[39m\u001b[39m\"\u001b[39m\u001b[39mtorch==1.13.1; sys_platform == \u001b[39m\u001b[39m\\'\u001b[39;00m\u001b[39mdarwin\u001b[39m\u001b[39m\\'\u001b[39;00m\u001b[39m\"\u001b[39m\u001b[39m  \u001b[39m\u001b[39m\"\u001b[39m\u001b[39mtorch==1.13.1+cpu; sys_platform == \u001b[39m\u001b[39m\\'\u001b[39;00m\u001b[39mlinux\u001b[39m\u001b[39m\\'\u001b[39;00m\u001b[39m or platform_system == \u001b[39m\u001b[39m\\'\u001b[39;00m\u001b[39mWindows\u001b[39m\u001b[39m\\'\u001b[39;00m\u001b[39m\"\u001b[39m\u001b[39m  #\u001b[39m\u001b[39m\"\u001b[39m\u001b[39mtorchvision==0.14.1; sys_platform == \u001b[39m\u001b[39m\\'\u001b[39;00m\u001b[39mdarwin\u001b[39m\u001b[39m\\'\u001b[39;00m\u001b[39m\"\u001b[39m\u001b[39m  \u001b[39m\u001b[39m\"\u001b[39m\u001b[39mtorchvision==0.14.1+cpu; sys_platform == \u001b[39m\u001b[39m\\'\u001b[39;00m\u001b[39mlinux\u001b[39m\u001b[39m\\'\u001b[39;00m\u001b[39m or platform_system == \u001b[39m\u001b[39m\\'\u001b[39;00m\u001b[39mWindows\u001b[39m\u001b[39m\\'\u001b[39;00m\u001b[39m\"\u001b[39m\u001b[39m'\u001b[39m)\n\u001b[0;32m----> 4\u001b[0m \u001b[39mfrom\u001b[39;00m \u001b[39mopenvino\u001b[39;00m\u001b[39m.\u001b[39;00m\u001b[39mtools\u001b[39;00m \u001b[39mimport\u001b[39;00m mo\n\u001b[1;32m      6\u001b[0m \u001b[39m#mo.convert_model(help=True)\u001b[39;00m\n",
      "\u001b[0;31mModuleNotFoundError\u001b[0m: No module named 'openvino'"
     ]
    }
   ],
   "source": [
    "# Required imports. Please execute this cell first.\n",
    "! pip install -q --find-links https://download.pytorch.org/whl/torch_stable.html \\\n",
    "\"openvino-dev>=2023.0.1\" \\\n",
    "\"requests\" \\\n",
    "\"tqdm\" \\\n",
    "\"transformers[onnx]>=4.21.1\" \\\n",
    "\"torch==1.13.1+cpu; sys_platform == 'linux' or platform_system == 'Windows'\" \\\n",
    "\"torchvision==0.14.1+cpu; sys_platform == 'linux' or platform_system == 'Windows'\"\n",
    "\n",
    "#mo.convert_model(help=True)"
   ]
  },
  {
   "cell_type": "code",
   "execution_count": 4,
   "id": "4f2a504d",
   "metadata": {},
   "outputs": [
    {
     "name": "stdout",
     "output_type": "stream",
     "text": [
      "^C\n",
      "\u001b[31mERROR: Operation cancelled by user\u001b[0m\u001b[31m\n",
      "\u001b[0m"
     ]
    }
   ],
   "source": [
    "#!pip install -q \"openvino-dev>=2023.0.0\" \"nncf>=2.5.0\"\n",
    "#!pip install -q \"ultralytics==8.0.43\" onnx"
   ]
  },
  {
   "cell_type": "code",
   "execution_count": 2,
   "id": "c23d4b90",
   "metadata": {},
   "outputs": [
    {
     "name": "stdout",
     "output_type": "stream",
     "text": [
      "Collecting openvino-dev\n",
      "  Obtaining dependency information for openvino-dev from https://files.pythonhosted.org/packages/7c/39/77f767d8fe733fb3d88a5bd2b98b5d4fd3c8ed2752caab8216b07a9a9a2b/openvino_dev-2023.0.2-11065-py3-none-any.whl.metadata\n",
      "  Using cached openvino_dev-2023.0.2-11065-py3-none-any.whl.metadata (17 kB)\n",
      "Requirement already satisfied: addict>=2.4.0 in /Users/arslankhan/Codes/.venv/lib/python3.11/site-packages (from openvino-dev) (2.4.0)\n",
      "Requirement already satisfied: defusedxml>=0.7.1 in /Users/arslankhan/Codes/.venv/lib/python3.11/site-packages (from openvino-dev) (0.7.1)\n",
      "Requirement already satisfied: jstyleson>=0.0.2 in /Users/arslankhan/Codes/.venv/lib/python3.11/site-packages (from openvino-dev) (0.0.2)\n",
      "Requirement already satisfied: networkx<=2.8.8 in /Users/arslankhan/Codes/.venv/lib/python3.11/site-packages (from openvino-dev) (2.8.2)\n",
      "Requirement already satisfied: numpy>=1.16.6 in /Users/arslankhan/Codes/.venv/lib/python3.11/site-packages (from openvino-dev) (1.23.5)\n",
      "Requirement already satisfied: opencv-python in /Users/arslankhan/Codes/.venv/lib/python3.11/site-packages (from openvino-dev) (4.8.0.76)\n",
      "Requirement already satisfied: openvino-telemetry>=2022.1.0 in /Users/arslankhan/Codes/.venv/lib/python3.11/site-packages (from openvino-dev) (2023.1.1)\n",
      "Requirement already satisfied: pillow>=8.1.2 in /Users/arslankhan/Codes/.venv/lib/python3.11/site-packages (from openvino-dev) (10.0.0)\n",
      "Requirement already satisfied: pyyaml>=5.4.1 in /Users/arslankhan/Codes/.venv/lib/python3.11/site-packages (from openvino-dev) (6.0.1)\n",
      "Requirement already satisfied: requests>=2.25.1 in /Users/arslankhan/Codes/.venv/lib/python3.11/site-packages (from openvino-dev) (2.31.0)\n",
      "Requirement already satisfied: texttable>=1.6.3 in /Users/arslankhan/Codes/.venv/lib/python3.11/site-packages (from openvino-dev) (1.6.7)\n",
      "Requirement already satisfied: tqdm>=4.54.1 in /Users/arslankhan/Codes/.venv/lib/python3.11/site-packages (from openvino-dev) (4.66.1)\n",
      "Requirement already satisfied: openvino==2023.0.2 in /Users/arslankhan/Codes/.venv/lib/python3.11/site-packages (from openvino-dev) (2023.0.2)\n",
      "Requirement already satisfied: scipy<1.11,>=1.8 in /Users/arslankhan/Codes/.venv/lib/python3.11/site-packages (from openvino-dev) (1.10.1)\n",
      "Requirement already satisfied: charset-normalizer<4,>=2 in /Users/arslankhan/Codes/.venv/lib/python3.11/site-packages (from requests>=2.25.1->openvino-dev) (3.2.0)\n",
      "Requirement already satisfied: idna<4,>=2.5 in /Users/arslankhan/Codes/.venv/lib/python3.11/site-packages (from requests>=2.25.1->openvino-dev) (3.4)\n",
      "Requirement already satisfied: urllib3<3,>=1.21.1 in /Users/arslankhan/Codes/.venv/lib/python3.11/site-packages (from requests>=2.25.1->openvino-dev) (2.0.4)\n",
      "Requirement already satisfied: certifi>=2017.4.17 in /Users/arslankhan/Codes/.venv/lib/python3.11/site-packages (from requests>=2.25.1->openvino-dev) (2023.7.22)\n",
      "Using cached openvino_dev-2023.0.2-11065-py3-none-any.whl (5.9 MB)\n",
      "Installing collected packages: openvino-dev\n",
      "Successfully installed openvino-dev-2023.0.2\n"
     ]
    }
   ],
   "source": [
    "!pip install openvino-dev"
   ]
  },
  {
   "cell_type": "code",
   "execution_count": 4,
   "id": "1560873e-4e7c-4a08-8192-db2ff9f49251",
   "metadata": {},
   "outputs": [
    {
     "name": "stdout",
     "output_type": "stream",
     "text": [
      "[ INFO ] The model was converted to IR v11, the latest model format that corresponds to the source DL framework input/output format. While IR v11 is backwards compatible with OpenVINO Inference Engine API v1.0, please use API v2.0 (as of 2022.1) to take advantage of the latest improvements in IR v11.\n",
      "Find more information about API v2.0 and IR v11 at https://docs.openvino.ai/2023.0/openvino_2_0_transition_guide.html\n",
      "[ SUCCESS ] Generated IR version 11 model.\n",
      "[ SUCCESS ] XML file: /Users/arslankhan/Codes/edge-robotics/model-lean/openvino-model/yolov5s.xml\n",
      "[ SUCCESS ] BIN file: /Users/arslankhan/Codes/edge-robotics/model-lean/openvino-model/yolov5s.bin\n"
     ]
    }
   ],
   "source": [
    "!mo --input_model ../yolov5s.onnx --output_dir ../openvino-model"
   ]
  },
  {
   "cell_type": "markdown",
   "id": "9bbe3a98",
   "metadata": {},
   "source": [
    "Model is in ../openvino-model\n",
    "\n",
    "\n",
    "For inferencing see 230 on https://github.com/openvinotoolkit/openvino_notebooks/tree/main/notebooks\n",
    "Also relevant are 102 and 121"
   ]
  }
 ],
 "metadata": {
  "kernelspec": {
   "display_name": "Python 3.9",
   "language": "python",
   "name": "python3"
  },
  "language_info": {
   "codemirror_mode": {
    "name": "ipython",
    "version": 3
   },
   "file_extension": ".py",
   "mimetype": "text/x-python",
   "name": "python",
   "nbconvert_exporter": "python",
   "pygments_lexer": "ipython3",
   "version": "3.11.4"
  }
 },
 "nbformat": 4,
 "nbformat_minor": 5
}
