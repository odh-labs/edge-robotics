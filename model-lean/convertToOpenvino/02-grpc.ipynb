{
 "cells": [
  {
   "attachments": {},
   "cell_type": "markdown",
   "id": "1aba4cbc-8293-445a-9059-32cc2cf5dd73",
   "metadata": {},
   "source": [
    "# GRPC with ModelMesh Server cheat sheet"
   ]
  },
  {
   "cell_type": "markdown",
   "id": "91e9b8e5-b92e-44d1-852f-77400dd93bfa",
   "metadata": {
    "tags": []
   },
   "source": [
    "## Configuration"
   ]
  },
  {
   "cell_type": "markdown",
   "id": "f5bd8c84-2028-4982-9c73-33ac2e3c5311",
   "metadata": {
    "tags": []
   },
   "source": [
    "#### Set grpc endpoint and model name"
   ]
  },
  {
   "cell_type": "code",
   "execution_count": 1,
   "id": "51c82b4a-3041-4e20-aba0-6f7bfde649ec",
   "metadata": {},
   "outputs": [],
   "source": [
    "grpc_host = 'modelmesh-serving.project-name.svc.cluster.local'\n",
    "grpc_port = 8033\n",
    "model_name = 'yolo'"
   ]
  },
  {
   "cell_type": "markdown",
   "id": "223b4359-b34a-4e5b-96a5-e36b440b0d22",
   "metadata": {},
   "source": [
    "#### Imports"
   ]
  },
  {
   "cell_type": "code",
   "execution_count": 2,
   "id": "37fbe2f2-6313-4280-9b86-4d3481bc1706",
   "metadata": {},
   "outputs": [],
   "source": [
    "# grpc_predict_v2_pb2 and grpc_predict_v2_pb2_grpc were created from grpc_predict_v2.proto using protoc\n",
    "import grpc\n",
    "import grpc_predict_v2_pb2\n",
    "import grpc_predict_v2_pb2_grpc"
   ]
  },
  {
   "cell_type": "markdown",
   "id": "f0ee3e01-e616-40f3-a145-a8d01e7d49cc",
   "metadata": {},
   "source": [
    "#### Create grpc channel and stub"
   ]
  },
  {
   "cell_type": "code",
   "execution_count": 3,
   "id": "c05e6fcc-0483-4b2f-9f5f-77ad0270569a",
   "metadata": {},
   "outputs": [],
   "source": [
    "channel = grpc.insecure_channel(f\"{grpc_host}:{grpc_port}\")\n",
    "stub = grpc_predict_v2_pb2_grpc.GRPCInferenceServiceStub(channel)"
   ]
  },
  {
   "cell_type": "markdown",
   "id": "4776f8d9-6ffd-40f5-8fdb-8fbdc170ad9c",
   "metadata": {},
   "source": [
    "## Most useful methods"
   ]
  },
  {
   "cell_type": "markdown",
   "id": "892ee4d3-a672-4794-8cb9-16edcad3b5c3",
   "metadata": {
    "tags": []
   },
   "source": [
    "### Model Metadata\n",
    "The per-model metadata API provides information about a model. Errors are indicated by the google.rpc.Status returned for the request. The OK code indicates success and other codes indicate failure."
   ]
  },
  {
   "cell_type": "code",
   "execution_count": 4,
   "id": "858ed9d4",
   "metadata": {
    "tags": []
   },
   "outputs": [
    {
     "name": "stdout",
     "output_type": "stream",
     "text": [
      "name: \"yolo__isvc-bb56a1c413\"\n",
      "versions: \"1\"\n",
      "platform: \"OpenVINO\"\n",
      "inputs {\n",
      "  name: \"images\"\n",
      "  datatype: \"FP32\"\n",
      "  shape: 1\n",
      "  shape: 3\n",
      "  shape: 640\n",
      "  shape: 640\n",
      "}\n",
      "outputs {\n",
      "  name: \"output0\"\n",
      "  datatype: \"FP32\"\n",
      "  shape: 1\n",
      "  shape: 25200\n",
      "  shape: 85\n",
      "}\n",
      "\n"
     ]
    }
   ],
   "source": [
    "request = grpc_predict_v2_pb2.ModelMetadataRequest(name=model_name)\n",
    "response = stub.ModelMetadata(request)\n",
    "print(response)"
   ]
  },
  {
   "cell_type": "markdown",
   "id": "f5be61ff-73ce-416a-b475-20b8ea4071f3",
   "metadata": {},
   "source": [
    "### Model inference\n",
    "See specific notebooks for inference examples"
   ]
  },
  {
   "cell_type": "markdown",
   "id": "f734bb65-dbbd-4eba-bd01-db46257eaf0a",
   "metadata": {},
   "source": [
    "## Other methods (not all implemented, depending on the runtime)"
   ]
  },
  {
   "cell_type": "markdown",
   "id": "fa15d246-eb32-486e-ad61-854944c0d095",
   "metadata": {},
   "source": [
    "## Server live\n",
    "The ServerLive API indicates if the inference server is able to receive and respond to metadata and inference request.\n",
    "\n",
    "**NOTE**: This method may not be implemented with your runtime. For example, it's not implemented in OpenVino Model Server runtime."
   ]
  },
  {
   "cell_type": "code",
   "execution_count": null,
   "id": "f6340de8-6e1e-4ab2-a3df-110abb84304e",
   "metadata": {},
   "outputs": [],
   "source": [
    "request = grpc_predict_v2_pb2.ModelReady(name=model_name)\n",
    "response = stub.ModelReady(request, metadata=[(\"mm-model-id\", \"yolo\")])\n",
    "print(response)"
   ]
  },
  {
   "cell_type": "markdown",
   "id": "8de2a1e1-e6c8-404b-ac01-3bf1f0178bfd",
   "metadata": {},
   "source": [
    "## Server ready\n",
    "The ServerReady API indicates if the server is ready for inferencing.\n",
    "\n",
    "**NOTE**: This method may not be implemented with your runtime. For example, it's not implemented in OpenVino Model Server runtime."
   ]
  },
  {
   "cell_type": "code",
   "execution_count": null,
   "id": "779b1085",
   "metadata": {},
   "outputs": [],
   "source": [
    "request = grpc_predict_v2_pb2.ModelReady(name=model_name)\n",
    "response = stub.ModelReady(request, metadata=[(\"mm-model-id\", \"yolo\")])\n",
    "print(response)"
   ]
  },
  {
   "cell_type": "markdown",
   "id": "d53bd36a-e8a4-4c17-b500-fe6c63883f01",
   "metadata": {},
   "source": [
    "## Model ready\n",
    "The ModelReady API indicates if a specific model is ready for inferencing.\n",
    "\n",
    "**NOTE**: This method may not be implemented with your runtime. For example, it's not implemented in OpenVino Model Server runtime."
   ]
  },
  {
   "cell_type": "code",
   "execution_count": null,
   "id": "d2c29216",
   "metadata": {},
   "outputs": [],
   "source": [
    "request = grpc_predict_v2_pb2.ModelReady(name=model_name)\n",
    "response = stub.ModelReady(request, metadata=[(\"mm-model-id\", \"yolo\")])\n",
    "print(response)"
   ]
  },
  {
   "cell_type": "markdown",
   "id": "176921fc-c52f-4f86-991a-ab881e8399df",
   "metadata": {
    "tags": []
   },
   "source": [
    "## Server Metadata\n",
    "The ServerMetadata API provides information about the server. Errors are indicated by the google.rpc.Status returned for the request. The OK code indicates success and other codes indicate failure.\n",
    "\n",
    "\n",
    "**NOTE**: This method may not be implemented with your runtime. For example, it's not implemented in OpenVino Model Server runtime."
   ]
  },
  {
   "cell_type": "code",
   "execution_count": null,
   "id": "41b6cea8-02ab-42ea-b254-4d9ea365de05",
   "metadata": {
    "tags": []
   },
   "outputs": [],
   "source": [
    "request = grpc_predict_v2_pb2.ServerMetadataRequest()\n",
    "response = stub.ServerMetadata(request, metadata=[(\"mm-vmodel-id\", \"yolo\")])\n",
    "print(response)"
   ]
  }
 ],
 "metadata": {
  "kernelspec": {
   "display_name": "Python 3",
   "language": "python",
   "name": "python3"
  },
  "language_info": {
   "codemirror_mode": {
    "name": "ipython",
    "version": 3
   },
   "file_extension": ".py",
   "mimetype": "text/x-python",
   "name": "python",
   "nbconvert_exporter": "python",
   "pygments_lexer": "ipython3",
   "version": "3.8.13"
  }
 },
 "nbformat": 4,
 "nbformat_minor": 5
}
